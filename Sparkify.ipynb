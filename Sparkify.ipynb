{
 "cells": [
  {
   "cell_type": "markdown",
   "metadata": {},
   "source": [
    "# Sparkify Project Workspace\n",
    "This workspace contains a tiny subset (128MB) of the full dataset available (12GB). Feel free to use this workspace to build your project, or to explore a smaller subset with Spark before deploying your cluster on the cloud. Instructions for setting up your Spark cluster is included in the last lesson of the Extracurricular Spark Course content.\n",
    "\n",
    "You can follow the steps below to guide your data analysis and model building portion of this project."
   ]
  },
  {
   "cell_type": "code",
   "execution_count": 1,
   "metadata": {},
   "outputs": [],
   "source": [
    "from pyspark.sql import SparkSession\n",
    "from pyspark.sql.functions import year, month,isnan, count, when, col, desc, udf, col, sort_array, asc, avg, sum as fsum,countDistinct,max,min,datediff, to_date,date_format,dense_rank,create_map,lit \n",
    "from pyspark.sql.window import Window\n",
    "from pyspark.sql.types import IntegerType\n",
    "from itertools import chain\n",
    "\n",
    "from pyspark.ml.classification import LogisticRegression\n",
    "from pyspark.ml.classification import GBTClassifier\n",
    "from pyspark.ml.feature import VectorAssembler,StringIndexer\n",
    "\n",
    "from datetime import datetime as dt\n",
    "import numpy as np\n",
    "import pandas as pd\n",
    "%matplotlib inline\n",
    "import matplotlib.pyplot as plt"
   ]
  },
  {
   "cell_type": "code",
   "execution_count": 2,
   "metadata": {},
   "outputs": [],
   "source": [
    "spark = SparkSession \\\n",
    "        .builder \\\n",
    "        .appName(\"Lucas Sparkify Project\") \\\n",
    "        .getOrCreate()"
   ]
  },
  {
   "cell_type": "markdown",
   "metadata": {},
   "source": [
    "# Load and Clean Dataset\n",
    "In this workspace, the mini-dataset file is `mini_sparkify_event_data.json`. Load and clean the dataset, checking for invalid or missing data - for example, records without userids or sessionids. "
   ]
  },
  {
   "cell_type": "code",
   "execution_count": 3,
   "metadata": {},
   "outputs": [],
   "source": [
    "spark.sparkContext.getConf().getAll()\n",
    "path = \"s3n://udacity-dsnd/sparkify/sparkify_event_data.json\"\n",
    "path2 = 's3n://udacity-dsnd/sparkify/mini_sparkify_event_data.json'\n",
    "user_log = spark.read.json(path)"
   ]
  },
  {
   "cell_type": "code",
   "execution_count": 4,
   "metadata": {},
   "outputs": [
    {
     "name": "stdout",
     "output_type": "stream",
     "text": [
      "root\n",
      " |-- artist: string (nullable = true)\n",
      " |-- auth: string (nullable = true)\n",
      " |-- firstName: string (nullable = true)\n",
      " |-- gender: string (nullable = true)\n",
      " |-- itemInSession: long (nullable = true)\n",
      " |-- lastName: string (nullable = true)\n",
      " |-- length: double (nullable = true)\n",
      " |-- level: string (nullable = true)\n",
      " |-- location: string (nullable = true)\n",
      " |-- method: string (nullable = true)\n",
      " |-- page: string (nullable = true)\n",
      " |-- registration: long (nullable = true)\n",
      " |-- sessionId: long (nullable = true)\n",
      " |-- song: string (nullable = true)\n",
      " |-- status: long (nullable = true)\n",
      " |-- ts: long (nullable = true)\n",
      " |-- userAgent: string (nullable = true)\n",
      " |-- userId: string (nullable = true)\n",
      "\n"
     ]
    }
   ],
   "source": [
    "user_log.printSchema()\n",
    "#length its the time of the song"
   ]
  },
  {
   "cell_type": "code",
   "execution_count": 5,
   "metadata": {},
   "outputs": [
    {
     "data": {
      "text/plain": [
       "[Row(artist='Martha Tilston', auth='Logged In', firstName='Colin', gender='M', itemInSession=50, lastName='Freeman', length=277.89016, level='paid', location='Bakersfield, CA', method='PUT', page='NextSong', registration=1538173362000, sessionId=29, song='Rockpools', status=200, ts=1538352117000, userAgent='Mozilla/5.0 (Windows NT 6.1; WOW64; rv:31.0) Gecko/20100101 Firefox/31.0', userId='30')]"
      ]
     },
     "execution_count": 5,
     "metadata": {},
     "output_type": "execute_result"
    }
   ],
   "source": [
    "user_log.take(1)"
   ]
  },
  {
   "cell_type": "code",
   "execution_count": 6,
   "metadata": {},
   "outputs": [
    {
     "data": {
      "text/plain": [
       "[Row(page='Cancel'),\n",
       " Row(page='Submit Downgrade'),\n",
       " Row(page='Thumbs Down'),\n",
       " Row(page='Home'),\n",
       " Row(page='Downgrade'),\n",
       " Row(page='Roll Advert'),\n",
       " Row(page='Logout'),\n",
       " Row(page='Save Settings'),\n",
       " Row(page='Cancellation Confirmation'),\n",
       " Row(page='About'),\n",
       " Row(page='Submit Registration'),\n",
       " Row(page='Settings'),\n",
       " Row(page='Login'),\n",
       " Row(page='Register'),\n",
       " Row(page='Add to Playlist'),\n",
       " Row(page='Add Friend'),\n",
       " Row(page='NextSong'),\n",
       " Row(page='Thumbs Up'),\n",
       " Row(page='Help'),\n",
       " Row(page='Upgrade'),\n",
       " Row(page='Error'),\n",
       " Row(page='Submit Upgrade')]"
      ]
     },
     "execution_count": 6,
     "metadata": {},
     "output_type": "execute_result"
    }
   ],
   "source": [
    "#what are the possible pages?\n",
    "user_log.select('page').drop_duplicates().collect()"
   ]
  },
  {
   "cell_type": "code",
   "execution_count": 7,
   "metadata": {},
   "outputs": [
    {
     "data": {
      "text/plain": [
       "[Row(userAgent='\"Mozilla/5.0 (Macintosh; Intel Mac OS X 10_8_5) AppleWebKit/537.36 (KHTML, like Gecko) Chrome/36.0.1985.143 Safari/537.36\"'),\n",
       " Row(userAgent='\"Mozilla/5.0 (Windows NT 5.1) AppleWebKit/537.36 (KHTML, like Gecko) Chrome/36.0.1985.143 Safari/537.36\"'),\n",
       " Row(userAgent='Mozilla/5.0 (X11; Ubuntu; Linux i686; rv:31.0) Gecko/20100101 Firefox/31.0'),\n",
       " Row(userAgent='\"Mozilla/5.0 (Macintosh; Intel Mac OS X 10_9_4) AppleWebKit/537.36 (KHTML, like Gecko) Chrome/36.0.1985.125 Safari/537.36\"'),\n",
       " Row(userAgent='\"Mozilla/5.0 (Macintosh; Intel Mac OS X 10_9_4) AppleWebKit/537.36 (KHTML, like Gecko) Chrome/35.0.1916.153 Safari/537.36\"')]"
      ]
     },
     "execution_count": 7,
     "metadata": {},
     "output_type": "execute_result"
    }
   ],
   "source": [
    "#what is userAgent\n",
    "user_log.select('userAgent').drop_duplicates().take(5)"
   ]
  },
  {
   "cell_type": "code",
   "execution_count": 8,
   "metadata": {},
   "outputs": [
    {
     "name": "stdout",
     "output_type": "stream",
     "text": [
      "+----------+\n",
      "|      auth|\n",
      "+----------+\n",
      "|Logged Out|\n",
      "| Cancelled|\n",
      "|     Guest|\n",
      "| Logged In|\n",
      "+----------+\n",
      "\n"
     ]
    }
   ],
   "source": [
    "#what is auth?\n",
    "user_log.select('auth').drop_duplicates().show()"
   ]
  },
  {
   "cell_type": "code",
   "execution_count": 9,
   "metadata": {},
   "outputs": [
    {
     "name": "stdout",
     "output_type": "stream",
     "text": [
      "+------+\n",
      "|status|\n",
      "+------+\n",
      "|   307|\n",
      "|   404|\n",
      "|   200|\n",
      "+------+\n",
      "\n"
     ]
    },
    {
     "data": {
      "text/plain": [
       "[Row(page='Cancel'), Row(page='Submit Downgrade'), Row(page='Thumbs Down')]"
      ]
     },
     "execution_count": 9,
     "metadata": {},
     "output_type": "execute_result"
    }
   ],
   "source": [
    "#what is status?\n",
    "user_log.select('status').drop_duplicates().show()\n",
    "user_log.filter(user_log.status==307).select('page').drop_duplicates().take(3)"
   ]
  },
  {
   "cell_type": "code",
   "execution_count": 10,
   "metadata": {},
   "outputs": [
    {
     "name": "stdout",
     "output_type": "stream",
     "text": [
      "+------+\n",
      "|method|\n",
      "+------+\n",
      "|   PUT|\n",
      "|   GET|\n",
      "+------+\n",
      "\n"
     ]
    },
    {
     "data": {
      "text/plain": [
       "[Row(page='Cancel'),\n",
       " Row(page='Submit Downgrade'),\n",
       " Row(page='Thumbs Down'),\n",
       " Row(page='Logout'),\n",
       " Row(page='Save Settings'),\n",
       " Row(page='Submit Registration'),\n",
       " Row(page='Login'),\n",
       " Row(page='Add to Playlist'),\n",
       " Row(page='Add Friend'),\n",
       " Row(page='NextSong'),\n",
       " Row(page='Thumbs Up'),\n",
       " Row(page='Submit Upgrade')]"
      ]
     },
     "execution_count": 10,
     "metadata": {},
     "output_type": "execute_result"
    }
   ],
   "source": [
    "#what is method?\n",
    "user_log.select('method').drop_duplicates().show()\n",
    "user_log.filter(user_log.method == 'PUT').select('page').drop_duplicates().collect()"
   ]
  },
  {
   "cell_type": "code",
   "execution_count": 11,
   "metadata": {},
   "outputs": [
    {
     "name": "stdout",
     "output_type": "stream",
     "text": [
      "+------+\n",
      "|gender|\n",
      "+------+\n",
      "|     F|\n",
      "|  null|\n",
      "|     M|\n",
      "+------+\n",
      "\n"
     ]
    }
   ],
   "source": [
    "#Checking the types of  gender and if there are any nan values\n",
    "user_log.select('gender').dropDuplicates().show()"
   ]
  },
  {
   "cell_type": "code",
   "execution_count": 12,
   "metadata": {},
   "outputs": [
    {
     "data": {
      "text/plain": [
       "[Row(userId='29', itemInSession=0, page='NextSong', ts=1538438103000, auth='Logged In', registration=1536988041000),\n",
       " Row(userId='29', itemInSession=1, page='NextSong', ts=1538438349000, auth='Logged In', registration=1536988041000),\n",
       " Row(userId='29', itemInSession=2, page='Settings', ts=1538438387000, auth='Logged In', registration=1536988041000),\n",
       " Row(userId='29', itemInSession=3, page='NextSong', ts=1538438607000, auth='Logged In', registration=1536988041000),\n",
       " Row(userId='29', itemInSession=4, page='Upgrade', ts=1538438619000, auth='Logged In', registration=1536988041000),\n",
       " Row(userId='29', itemInSession=5, page='NextSong', ts=1538438807000, auth='Logged In', registration=1536988041000),\n",
       " Row(userId='29', itemInSession=6, page='Roll Advert', ts=1538438862000, auth='Logged In', registration=1536988041000),\n",
       " Row(userId='29', itemInSession=7, page='NextSong', ts=1538439032000, auth='Logged In', registration=1536988041000),\n",
       " Row(userId='29', itemInSession=8, page='NextSong', ts=1538439276000, auth='Logged In', registration=1536988041000),\n",
       " Row(userId='29', itemInSession=9, page='NextSong', ts=1538439549000, auth='Logged In', registration=1536988041000),\n",
       " Row(userId='29', itemInSession=10, page='NextSong', ts=1538439748000, auth='Logged In', registration=1536988041000),\n",
       " Row(userId='29', itemInSession=11, page='NextSong', ts=1538439987000, auth='Logged In', registration=1536988041000),\n",
       " Row(userId='29', itemInSession=12, page='NextSong', ts=1538440166000, auth='Logged In', registration=1536988041000),\n",
       " Row(userId='29', itemInSession=13, page='NextSong', ts=1538440375000, auth='Logged In', registration=1536988041000),\n",
       " Row(userId='29', itemInSession=14, page='NextSong', ts=1538440520000, auth='Logged In', registration=1536988041000),\n",
       " Row(userId='29', itemInSession=15, page='NextSong', ts=1538440728000, auth='Logged In', registration=1536988041000),\n",
       " Row(userId='29', itemInSession=16, page='NextSong', ts=1538441000000, auth='Logged In', registration=1536988041000),\n",
       " Row(userId='29', itemInSession=17, page='NextSong', ts=1538441267000, auth='Logged In', registration=1536988041000),\n",
       " Row(userId='29', itemInSession=18, page='NextSong', ts=1538441506000, auth='Logged In', registration=1536988041000),\n",
       " Row(userId='29', itemInSession=19, page='NextSong', ts=1538441715000, auth='Logged In', registration=1536988041000),\n",
       " Row(userId='29', itemInSession=20, page='NextSong', ts=1538441971000, auth='Logged In', registration=1536988041000),\n",
       " Row(userId='29', itemInSession=21, page='NextSong', ts=1538442181000, auth='Logged In', registration=1536988041000),\n",
       " Row(userId='29', itemInSession=22, page='NextSong', ts=1538442424000, auth='Logged In', registration=1536988041000),\n",
       " Row(userId='29', itemInSession=23, page='NextSong', ts=1538442712000, auth='Logged In', registration=1536988041000),\n",
       " Row(userId='29', itemInSession=24, page='Thumbs Up', ts=1538442713000, auth='Logged In', registration=1536988041000),\n",
       " Row(userId='29', itemInSession=25, page='NextSong', ts=1538442964000, auth='Logged In', registration=1536988041000),\n",
       " Row(userId='29', itemInSession=26, page='NextSong', ts=1538443171000, auth='Logged In', registration=1536988041000),\n",
       " Row(userId='29', itemInSession=27, page='NextSong', ts=1538443407000, auth='Logged In', registration=1536988041000),\n",
       " Row(userId='29', itemInSession=28, page='NextSong', ts=1538443687000, auth='Logged In', registration=1536988041000),\n",
       " Row(userId='29', itemInSession=29, page='NextSong', ts=1538443983000, auth='Logged In', registration=1536988041000),\n",
       " Row(userId='29', itemInSession=30, page='NextSong', ts=1538444168000, auth='Logged In', registration=1536988041000),\n",
       " Row(userId='29', itemInSession=31, page='NextSong', ts=1538444462000, auth='Logged In', registration=1536988041000),\n",
       " Row(userId='29', itemInSession=32, page='NextSong', ts=1538444778000, auth='Logged In', registration=1536988041000),\n",
       " Row(userId='29', itemInSession=33, page='Add to Playlist', ts=1538444803000, auth='Logged In', registration=1536988041000),\n",
       " Row(userId='29', itemInSession=34, page='NextSong', ts=1538445051000, auth='Logged In', registration=1536988041000),\n",
       " Row(userId='29', itemInSession=35, page='NextSong', ts=1538445359000, auth='Logged In', registration=1536988041000),\n",
       " Row(userId='29', itemInSession=36, page='NextSong', ts=1538445534000, auth='Logged In', registration=1536988041000),\n",
       " Row(userId='29', itemInSession=37, page='NextSong', ts=1538445719000, auth='Logged In', registration=1536988041000),\n",
       " Row(userId='29', itemInSession=38, page='NextSong', ts=1538446022000, auth='Logged In', registration=1536988041000),\n",
       " Row(userId='29', itemInSession=39, page='NextSong', ts=1538446262000, auth='Logged In', registration=1536988041000),\n",
       " Row(userId='29', itemInSession=40, page='NextSong', ts=1538446479000, auth='Logged In', registration=1536988041000),\n",
       " Row(userId='29', itemInSession=41, page='NextSong', ts=1538446677000, auth='Logged In', registration=1536988041000),\n",
       " Row(userId='29', itemInSession=42, page='NextSong', ts=1538447656000, auth='Logged In', registration=1536988041000),\n",
       " Row(userId='29', itemInSession=43, page='NextSong', ts=1538448073000, auth='Logged In', registration=1536988041000),\n",
       " Row(userId='29', itemInSession=44, page='NextSong', ts=1538448286000, auth='Logged In', registration=1536988041000),\n",
       " Row(userId='29', itemInSession=45, page='NextSong', ts=1538448531000, auth='Logged In', registration=1536988041000),\n",
       " Row(userId='29', itemInSession=46, page='NextSong', ts=1538448690000, auth='Logged In', registration=1536988041000),\n",
       " Row(userId='29', itemInSession=47, page='Roll Advert', ts=1538448738000, auth='Logged In', registration=1536988041000),\n",
       " Row(userId='29', itemInSession=48, page='NextSong', ts=1538448838000, auth='Logged In', registration=1536988041000),\n",
       " Row(userId='29', itemInSession=49, page='NextSong', ts=1538449032000, auth='Logged In', registration=1536988041000),\n",
       " Row(userId='29', itemInSession=50, page='NextSong', ts=1538449292000, auth='Logged In', registration=1536988041000),\n",
       " Row(userId='29', itemInSession=51, page='Settings', ts=1538449319000, auth='Logged In', registration=1536988041000),\n",
       " Row(userId='29', itemInSession=52, page='NextSong', ts=1538449511000, auth='Logged In', registration=1536988041000),\n",
       " Row(userId='29', itemInSession=53, page='NextSong', ts=1538449728000, auth='Logged In', registration=1536988041000),\n",
       " Row(userId='29', itemInSession=54, page='NextSong', ts=1538449983000, auth='Logged In', registration=1536988041000),\n",
       " Row(userId='29', itemInSession=55, page='NextSong', ts=1538450232000, auth='Logged In', registration=1536988041000),\n",
       " Row(userId='29', itemInSession=56, page='NextSong', ts=1538450462000, auth='Logged In', registration=1536988041000),\n",
       " Row(userId='29', itemInSession=57, page='Roll Advert', ts=1538450484000, auth='Logged In', registration=1536988041000),\n",
       " Row(userId='29', itemInSession=58, page='NextSong', ts=1538450681000, auth='Logged In', registration=1536988041000),\n",
       " Row(userId='29', itemInSession=59, page='NextSong', ts=1538450900000, auth='Logged In', registration=1536988041000),\n",
       " Row(userId='29', itemInSession=60, page='Roll Advert', ts=1538450934000, auth='Logged In', registration=1536988041000),\n",
       " Row(userId='29', itemInSession=61, page='NextSong', ts=1538451213000, auth='Logged In', registration=1536988041000),\n",
       " Row(userId='29', itemInSession=62, page='Roll Advert', ts=1538451246000, auth='Logged In', registration=1536988041000),\n",
       " Row(userId='29', itemInSession=63, page='NextSong', ts=1538451428000, auth='Logged In', registration=1536988041000),\n",
       " Row(userId='29', itemInSession=64, page='NextSong', ts=1538451588000, auth='Logged In', registration=1536988041000),\n",
       " Row(userId='29', itemInSession=65, page='NextSong', ts=1538451817000, auth='Logged In', registration=1536988041000),\n",
       " Row(userId='29', itemInSession=66, page='NextSong', ts=1538452056000, auth='Logged In', registration=1536988041000),\n",
       " Row(userId='29', itemInSession=67, page='NextSong', ts=1538452212000, auth='Logged In', registration=1536988041000),\n",
       " Row(userId='29', itemInSession=68, page='NextSong', ts=1538452431000, auth='Logged In', registration=1536988041000),\n",
       " Row(userId='29', itemInSession=69, page='NextSong', ts=1538452628000, auth='Logged In', registration=1536988041000),\n",
       " Row(userId='29', itemInSession=70, page='NextSong', ts=1538452775000, auth='Logged In', registration=1536988041000),\n",
       " Row(userId='29', itemInSession=71, page='NextSong', ts=1538453105000, auth='Logged In', registration=1536988041000),\n",
       " Row(userId='29', itemInSession=72, page='NextSong', ts=1538453303000, auth='Logged In', registration=1536988041000),\n",
       " Row(userId='29', itemInSession=73, page='NextSong', ts=1538453478000, auth='Logged In', registration=1536988041000),\n",
       " Row(userId='29', itemInSession=74, page='NextSong', ts=1538453640000, auth='Logged In', registration=1536988041000),\n",
       " Row(userId='29', itemInSession=75, page='NextSong', ts=1538453864000, auth='Logged In', registration=1536988041000),\n",
       " Row(userId='29', itemInSession=76, page='NextSong', ts=1538454144000, auth='Logged In', registration=1536988041000),\n",
       " Row(userId='29', itemInSession=77, page='NextSong', ts=1538454507000, auth='Logged In', registration=1536988041000),\n",
       " Row(userId='29', itemInSession=78, page='NextSong', ts=1538454743000, auth='Logged In', registration=1536988041000),\n",
       " Row(userId='29', itemInSession=79, page='NextSong', ts=1538454995000, auth='Logged In', registration=1536988041000),\n",
       " Row(userId='29', itemInSession=80, page='Add to Playlist', ts=1538455037000, auth='Logged In', registration=1536988041000),\n",
       " Row(userId='29', itemInSession=81, page='NextSong', ts=1538455176000, auth='Logged In', registration=1536988041000),\n",
       " Row(userId='29', itemInSession=82, page='NextSong', ts=1538455395000, auth='Logged In', registration=1536988041000),\n",
       " Row(userId='29', itemInSession=83, page='NextSong', ts=1538455670000, auth='Logged In', registration=1536988041000),\n",
       " Row(userId='29', itemInSession=84, page='Roll Advert', ts=1538455798000, auth='Logged In', registration=1536988041000),\n",
       " Row(userId='29', itemInSession=85, page='NextSong', ts=1538455928000, auth='Logged In', registration=1536988041000),\n",
       " Row(userId='29', itemInSession=86, page='NextSong', ts=1538456129000, auth='Logged In', registration=1536988041000),\n",
       " Row(userId='29', itemInSession=87, page='NextSong', ts=1538456348000, auth='Logged In', registration=1536988041000),\n",
       " Row(userId='29', itemInSession=88, page='NextSong', ts=1538456564000, auth='Logged In', registration=1536988041000),\n",
       " Row(userId='29', itemInSession=89, page='NextSong', ts=1538456788000, auth='Logged In', registration=1536988041000),\n",
       " Row(userId='200003', itemInSession=0, page='Home', ts=1538734670000, auth='Logged In', registration=1530333492000),\n",
       " Row(userId='200003', itemInSession=1, page='NextSong', ts=1538734738000, auth='Logged In', registration=1530333492000),\n",
       " Row(userId='200003', itemInSession=2, page='NextSong', ts=1538735285000, auth='Logged In', registration=1530333492000),\n",
       " Row(userId='200003', itemInSession=3, page='NextSong', ts=1538735551000, auth='Logged In', registration=1530333492000),\n",
       " Row(userId='200003', itemInSession=4, page='NextSong', ts=1538735785000, auth='Logged In', registration=1530333492000),\n",
       " Row(userId='200003', itemInSession=5, page='Thumbs Down', ts=1538735786000, auth='Logged In', registration=1530333492000),\n",
       " Row(userId='200003', itemInSession=6, page='Help', ts=1538735867000, auth='Logged In', registration=1530333492000),\n",
       " Row(userId='200003', itemInSession=7, page='NextSong', ts=1538735954000, auth='Logged In', registration=1530333492000),\n",
       " Row(userId='200003', itemInSession=8, page='NextSong', ts=1538736219000, auth='Logged In', registration=1530333492000),\n",
       " Row(userId='200003', itemInSession=9, page='NextSong', ts=1538736467000, auth='Logged In', registration=1530333492000),\n",
       " Row(userId='200003', itemInSession=10, page='NextSong', ts=1538736710000, auth='Logged In', registration=1530333492000),\n",
       " Row(userId='200003', itemInSession=11, page='NextSong', ts=1538736950000, auth='Logged In', registration=1530333492000),\n",
       " Row(userId='200003', itemInSession=12, page='NextSong', ts=1538737139000, auth='Logged In', registration=1530333492000),\n",
       " Row(userId='200003', itemInSession=13, page='NextSong', ts=1538737361000, auth='Logged In', registration=1530333492000),\n",
       " Row(userId='200003', itemInSession=14, page='NextSong', ts=1538737580000, auth='Logged In', registration=1530333492000),\n",
       " Row(userId='200003', itemInSession=15, page='Thumbs Down', ts=1538737581000, auth='Logged In', registration=1530333492000),\n",
       " Row(userId='200003', itemInSession=16, page='NextSong', ts=1538737824000, auth='Logged In', registration=1530333492000),\n",
       " Row(userId='200003', itemInSession=17, page='NextSong', ts=1538738060000, auth='Logged In', registration=1530333492000),\n",
       " Row(userId='200003', itemInSession=18, page='NextSong', ts=1538738192000, auth='Logged In', registration=1530333492000),\n",
       " Row(userId='200003', itemInSession=19, page='NextSong', ts=1538738446000, auth='Logged In', registration=1530333492000),\n",
       " Row(userId='200003', itemInSession=20, page='NextSong', ts=1538738670000, auth='Logged In', registration=1530333492000),\n",
       " Row(userId='200003', itemInSession=21, page='NextSong', ts=1538738878000, auth='Logged In', registration=1530333492000),\n",
       " Row(userId='200003', itemInSession=22, page='NextSong', ts=1538739156000, auth='Logged In', registration=1530333492000),\n",
       " Row(userId='200003', itemInSession=23, page='NextSong', ts=1538739483000, auth='Logged In', registration=1530333492000),\n",
       " Row(userId='200003', itemInSession=24, page='Thumbs Up', ts=1538739484000, auth='Logged In', registration=1530333492000),\n",
       " Row(userId='200003', itemInSession=25, page='NextSong', ts=1538739773000, auth='Logged In', registration=1530333492000),\n",
       " Row(userId='200003', itemInSession=26, page='Thumbs Down', ts=1538739774000, auth='Logged In', registration=1530333492000),\n",
       " Row(userId='200003', itemInSession=27, page='Logout', ts=1538739775000, auth='Logged In', registration=1530333492000),\n",
       " Row(userId='', itemInSession=28, page='Home', ts=1538739790000, auth='Logged Out', registration=None),\n",
       " Row(userId='', itemInSession=29, page='Login', ts=1538739791000, auth='Logged Out', registration=None),\n",
       " Row(userId='200003', itemInSession=30, page='Home', ts=1538739837000, auth='Logged In', registration=1530333492000),\n",
       " Row(userId='200003', itemInSession=31, page='NextSong', ts=1538740161000, auth='Logged In', registration=1530333492000),\n",
       " Row(userId='200003', itemInSession=32, page='NextSong', ts=1538740416000, auth='Logged In', registration=1530333492000),\n",
       " Row(userId='200003', itemInSession=33, page='NextSong', ts=1538740684000, auth='Logged In', registration=1530333492000),\n",
       " Row(userId='200003', itemInSession=34, page='Home', ts=1538740799000, auth='Logged In', registration=1530333492000),\n",
       " Row(userId='200003', itemInSession=35, page='NextSong', ts=1538740884000, auth='Logged In', registration=1530333492000),\n",
       " Row(userId='200003', itemInSession=36, page='NextSong', ts=1538741093000, auth='Logged In', registration=1530333492000),\n",
       " Row(userId='200003', itemInSession=37, page='NextSong', ts=1538741293000, auth='Logged In', registration=1530333492000),\n",
       " Row(userId='200003', itemInSession=38, page='NextSong', ts=1538741475000, auth='Logged In', registration=1530333492000),\n",
       " Row(userId='200003', itemInSession=39, page='NextSong', ts=1538741693000, auth='Logged In', registration=1530333492000),\n",
       " Row(userId='200003', itemInSession=40, page='NextSong', ts=1538741809000, auth='Logged In', registration=1530333492000),\n",
       " Row(userId='200003', itemInSession=41, page='NextSong', ts=1538742098000, auth='Logged In', registration=1530333492000),\n",
       " Row(userId='200003', itemInSession=42, page='NextSong', ts=1538742330000, auth='Logged In', registration=1530333492000),\n",
       " Row(userId='200003', itemInSession=43, page='NextSong', ts=1538742549000, auth='Logged In', registration=1530333492000),\n",
       " Row(userId='200003', itemInSession=44, page='Thumbs Up', ts=1538742550000, auth='Logged In', registration=1530333492000),\n",
       " Row(userId='200003', itemInSession=45, page='NextSong', ts=1538742853000, auth='Logged In', registration=1530333492000),\n",
       " Row(userId='200003', itemInSession=46, page='NextSong', ts=1538742992000, auth='Logged In', registration=1530333492000),\n",
       " Row(userId='200003', itemInSession=47, page='NextSong', ts=1538743213000, auth='Logged In', registration=1530333492000),\n",
       " Row(userId='200003', itemInSession=48, page='Thumbs Up', ts=1538743214000, auth='Logged In', registration=1530333492000),\n",
       " Row(userId='200003', itemInSession=49, page='NextSong', ts=1538743503000, auth='Logged In', registration=1530333492000),\n",
       " Row(userId='200003', itemInSession=50, page='NextSong', ts=1538743700000, auth='Logged In', registration=1530333492000),\n",
       " Row(userId='200003', itemInSession=51, page='NextSong', ts=1538744215000, auth='Logged In', registration=1530333492000),\n",
       " Row(userId='200003', itemInSession=52, page='Downgrade', ts=1538744280000, auth='Logged In', registration=1530333492000),\n",
       " Row(userId='200003', itemInSession=53, page='Submit Downgrade', ts=1538744281000, auth='Logged In', registration=1530333492000),\n",
       " Row(userId='200003', itemInSession=54, page='Home', ts=1538744282000, auth='Logged In', registration=1530333492000),\n",
       " Row(userId='200003', itemInSession=55, page='NextSong', ts=1538744533000, auth='Logged In', registration=1530333492000),\n",
       " Row(userId='200003', itemInSession=56, page='Thumbs Up', ts=1538744534000, auth='Logged In', registration=1530333492000),\n",
       " Row(userId='200003', itemInSession=57, page='NextSong', ts=1538744762000, auth='Logged In', registration=1530333492000),\n",
       " Row(userId='200003', itemInSession=58, page='Roll Advert', ts=1538744763000, auth='Logged In', registration=1530333492000),\n",
       " Row(userId='200003', itemInSession=59, page='NextSong', ts=1538744915000, auth='Logged In', registration=1530333492000),\n",
       " Row(userId='200003', itemInSession=60, page='NextSong', ts=1538745037000, auth='Logged In', registration=1530333492000),\n",
       " Row(userId='200003', itemInSession=61, page='Add to Playlist', ts=1538745047000, auth='Logged In', registration=1530333492000),\n",
       " Row(userId='200003', itemInSession=62, page='NextSong', ts=1538745316000, auth='Logged In', registration=1530333492000),\n",
       " Row(userId='200003', itemInSession=63, page='Thumbs Down', ts=1538745317000, auth='Logged In', registration=1530333492000),\n",
       " Row(userId='200003', itemInSession=64, page='NextSong', ts=1538745535000, auth='Logged In', registration=1530333492000),\n",
       " Row(userId='200003', itemInSession=65, page='Home', ts=1538745543000, auth='Logged In', registration=1530333492000),\n",
       " Row(userId='200003', itemInSession=66, page='NextSong', ts=1538745752000, auth='Logged In', registration=1530333492000),\n",
       " Row(userId='200003', itemInSession=67, page='NextSong', ts=1538745969000, auth='Logged In', registration=1530333492000),\n",
       " Row(userId='200003', itemInSession=68, page='NextSong', ts=1538746200000, auth='Logged In', registration=1530333492000),\n",
       " Row(userId='200003', itemInSession=69, page='NextSong', ts=1538746403000, auth='Logged In', registration=1530333492000),\n",
       " Row(userId='200003', itemInSession=70, page='NextSong', ts=1538746622000, auth='Logged In', registration=1530333492000),\n",
       " Row(userId='200003', itemInSession=71, page='NextSong', ts=1538746840000, auth='Logged In', registration=1530333492000),\n",
       " Row(userId='200003', itemInSession=72, page='NextSong', ts=1538747065000, auth='Logged In', registration=1530333492000),\n",
       " Row(userId='200003', itemInSession=73, page='NextSong', ts=1538747221000, auth='Logged In', registration=1530333492000),\n",
       " Row(userId='200003', itemInSession=74, page='Add to Playlist', ts=1538747272000, auth='Logged In', registration=1530333492000),\n",
       " Row(userId='200003', itemInSession=75, page='NextSong', ts=1538747408000, auth='Logged In', registration=1530333492000),\n",
       " Row(userId='200003', itemInSession=76, page='Roll Advert', ts=1538747408000, auth='Logged In', registration=1530333492000),\n",
       " Row(userId='200003', itemInSession=77, page='NextSong', ts=1538747631000, auth='Logged In', registration=1530333492000),\n",
       " Row(userId='200003', itemInSession=78, page='NextSong', ts=1538747902000, auth='Logged In', registration=1530333492000),\n",
       " Row(userId='200003', itemInSession=79, page='Roll Advert', ts=1538747976000, auth='Logged In', registration=1530333492000),\n",
       " Row(userId='200003', itemInSession=80, page='NextSong', ts=1538748141000, auth='Logged In', registration=1530333492000),\n",
       " Row(userId='200003', itemInSession=81, page='NextSong', ts=1538748600000, auth='Logged In', registration=1530333492000),\n",
       " Row(userId='200003', itemInSession=82, page='Add Friend', ts=1538748601000, auth='Logged In', registration=1530333492000),\n",
       " Row(userId='200003', itemInSession=83, page='NextSong', ts=1538748788000, auth='Logged In', registration=1530333492000),\n",
       " Row(userId='200003', itemInSession=84, page='NextSong', ts=1538749021000, auth='Logged In', registration=1530333492000),\n",
       " Row(userId='200003', itemInSession=85, page='Thumbs Up', ts=1538749022000, auth='Logged In', registration=1530333492000),\n",
       " Row(userId='200003', itemInSession=86, page='NextSong', ts=1538749202000, auth='Logged In', registration=1530333492000),\n",
       " Row(userId='200003', itemInSession=87, page='NextSong', ts=1538749448000, auth='Logged In', registration=1530333492000),\n",
       " Row(userId='200003', itemInSession=88, page='Settings', ts=1538749467000, auth='Logged In', registration=1530333492000),\n",
       " Row(userId='200003', itemInSession=89, page='NextSong', ts=1538749659000, auth='Logged In', registration=1530333492000),\n",
       " Row(userId='200003', itemInSession=90, page='Roll Advert', ts=1538749770000, auth='Logged In', registration=1530333492000),\n",
       " Row(userId='200003', itemInSession=91, page='NextSong', ts=1538749955000, auth='Logged In', registration=1530333492000),\n",
       " Row(userId='200003', itemInSession=92, page='Add to Playlist', ts=1538749960000, auth='Logged In', registration=1530333492000),\n",
       " Row(userId='200003', itemInSession=93, page='NextSong', ts=1538750212000, auth='Logged In', registration=1530333492000),\n",
       " Row(userId='200003', itemInSession=94, page='NextSong', ts=1538750496000, auth='Logged In', registration=1530333492000),\n",
       " Row(userId='200003', itemInSession=95, page='NextSong', ts=1538750692000, auth='Logged In', registration=1530333492000),\n",
       " Row(userId='200003', itemInSession=96, page='Thumbs Up', ts=1538750693000, auth='Logged In', registration=1530333492000),\n",
       " Row(userId='200003', itemInSession=97, page='NextSong', ts=1538750886000, auth='Logged In', registration=1530333492000),\n",
       " Row(userId='200003', itemInSession=98, page='NextSong', ts=1538751037000, auth='Logged In', registration=1530333492000),\n",
       " Row(userId='200003', itemInSession=99, page='Logout', ts=1538751038000, auth='Logged In', registration=1530333492000),\n",
       " Row(userId='', itemInSession=100, page='Home', ts=1538751063000, auth='Logged Out', registration=None),\n",
       " Row(userId='', itemInSession=101, page='About', ts=1538751112000, auth='Logged Out', registration=None)]"
      ]
     },
     "execution_count": 12,
     "metadata": {},
     "output_type": "execute_result"
    }
   ],
   "source": [
    "user_log.filter(user_log.sessionId == 28).select('userId','itemInSession','page','ts','auth','registration').sort('ts').collect()"
   ]
  },
  {
   "cell_type": "code",
   "execution_count": 13,
   "metadata": {},
   "outputs": [],
   "source": [
    "#auth Guest and Logged Out dosent show userId and are not users to be analysed\n",
    "user_log = user_log.filter(~user_log.auth.isin(['Guest','Logged Out']))"
   ]
  },
  {
   "cell_type": "code",
   "execution_count": 14,
   "metadata": {},
   "outputs": [],
   "source": [
    "#Creating a more visual date column\n",
    "get_date = udf(lambda x: dt.fromtimestamp(x / 1000.0).strftime(\"%d/%m/%Y\") )\n",
    "\n",
    "user_log = user_log.withColumn(\"date\", to_date(get_date(user_log.ts),'dd/mm/yyyy'))"
   ]
  },
  {
   "cell_type": "code",
   "execution_count": 15,
   "metadata": {},
   "outputs": [],
   "source": [
    "windowval = Window.partitionBy(\"userId\").orderBy(desc(\"date\")).rangeBetween(Window.unboundedPreceding, 0)\n",
    "\n",
    "user_log = user_log.withColumn(\"lastSession\", max(\"date\").over(windowval)) \\\n",
    "                   .withColumn(\"daysFromLastSession\", datediff(col('lastSession'), col('date')))"
   ]
  },
  {
   "cell_type": "markdown",
   "metadata": {},
   "source": [
    "# Exploratory Data Analysis\n",
    "When you're working with the full dataset, perform EDA by loading a small subset of the data and doing basic manipulations within Spark. In this workspace, you are already provided a small subset of data you can explore.\n",
    "\n",
    "### Define Churn\n",
    "\n",
    "Once you've done some preliminary analysis, create a column `Churn` to use as the label for your model. I suggest using the `Cancellation Confirmation` events to define your churn, which happen for both paid and free users. As a bonus task, you can also look into the `Downgrade` events.\n",
    "\n",
    "### Explore Data\n",
    "Once you've defined churn, perform some exploratory data analysis to observe the behavior for users who stayed vs users who churned. You can start by exploring aggregates on these two groups of users, observing how much of a specific action they experienced per a certain time unit or number of songs played."
   ]
  },
  {
   "cell_type": "code",
   "execution_count": 16,
   "metadata": {},
   "outputs": [],
   "source": [
    "make_binominal = udf(lambda user: 0 if user == None else 1, IntegerType())\n",
    "\n",
    "cancelled_users = user_log.filter(user_log.page=='Cancellation Confirmation') \\\n",
    "    .select('userId') \\\n",
    "    .dropDuplicates() \\\n",
    "    .withColumnRenamed('userId', 'Cancelled')\n",
    "\n",
    "user_log = user_log.join(cancelled_users, cancelled_users.Cancelled == user_log.userId, how='left') \\\n",
    "    .withColumn('Cancelled',make_binominal(col('Cancelled')))\n"
   ]
  },
  {
   "cell_type": "code",
   "execution_count": 17,
   "metadata": {},
   "outputs": [
    {
     "name": "stdout",
     "output_type": "stream",
     "text": [
      "The number of unique Users ids is:  225\n"
     ]
    }
   ],
   "source": [
    "n_userIds = user_log.select('userId').dropDuplicates().count()\n",
    "print(\"The number of unique Users ids is: \",n_userIds)"
   ]
  },
  {
   "cell_type": "code",
   "execution_count": 18,
   "metadata": {},
   "outputs": [
    {
     "name": "stdout",
     "output_type": "stream",
     "text": [
      "The number of cancelled users is  52  which stands for  0.231111111111  users \n",
      "The number of active users is  173  which stands for  0.768888888889  users.\n"
     ]
    }
   ],
   "source": [
    "cSplit = user_log.select('Cancelled', 'userId') \\\n",
    "                               .dropDuplicates() \\\n",
    "                               .groupBy('Cancelled').count() \\\n",
    "                               .toPandas()\n",
    "cancelled_u = cSplit.loc[cSplit.Cancelled==1][\"count\"].values[0]\n",
    "\n",
    "active_u = cSplit.loc[cSplit.Cancelled==0][\"count\"].values[0]\n",
    "\n",
    "print(\"The number of cancelled users is \",\n",
    "      cancelled_u,\" which stands for \", cancelled_u/n_userIds, \" users\",\n",
    "      \"\\nThe number of active users is \",\n",
    "      active_u,\" which stands for \", active_u/n_userIds, \" users.\")"
   ]
  },
  {
   "cell_type": "code",
   "execution_count": 33,
   "metadata": {},
   "outputs": [
    {
     "name": "stdout",
     "output_type": "stream",
     "text": [
      "+---------+-------------------------+--------------------------------+--------------------------+\n",
      "|Cancelled|Average Itens per Session|Average Distinct Songs Lisned to|Avarage total songs played|\n",
      "+---------+-------------------------+--------------------------------+--------------------------+\n",
      "|        1|        79.57481393327174|               62.53449286816023|          63.5371525780952|\n",
      "|        0|        89.63262543730534|               71.59624227175094|         72.96967249911359|\n",
      "+---------+-------------------------+--------------------------------+--------------------------+\n",
      "\n"
     ]
    }
   ],
   "source": [
    "#Comparing Itens in Sessions, Song Variety and Song quantity\n",
    "user_log.filter(user_log.song.isNotNull()) \\\n",
    "    .groupBy('Cancelled', 'userId','sessionId').agg(max('itemInSession'),countDistinct('song'),count('song')) \\\n",
    "    .groupby('Cancelled','userId').avg() \\\n",
    "    .groupby('Cancelled').avg() \\\n",
    "    .select('Cancelled',col('avg(avg(max(itemInSession)))').alias(\"Average Itens per Session\"),col('avg(avg(count(DISTINCT song)))').alias(\"Average Distinct Songs Lisned to\"),col('avg(avg(count(song)))').alias(\"Avarage total songs played\")) \\\n",
    "    .show()"
   ]
  },
  {
   "cell_type": "code",
   "execution_count": 34,
   "metadata": {},
   "outputs": [
    {
     "name": "stdout",
     "output_type": "stream",
     "text": [
      "+---------+-----------+----------------------+\n",
      "|Cancelled|       page|Number of Interactions|\n",
      "+---------+-----------+----------------------+\n",
      "|        0| Add Friend|     22.47530864197531|\n",
      "|        1| Add Friend|    14.454545454545455|\n",
      "|        0|Thumbs Down|    13.225806451612904|\n",
      "|        1|Thumbs Down|    10.333333333333334|\n",
      "|        0|  Thumbs Up|     62.89411764705882|\n",
      "|        1|  Thumbs Up|                 37.18|\n",
      "+---------+-----------+----------------------+\n",
      "\n"
     ]
    }
   ],
   "source": [
    "#Friends Added and Songs Reactions influence users churn?\n",
    "user_log.groupBy('Cancelled','userId','page').count() \\\n",
    "    .groupby('Cancelled','page').avg() \\\n",
    "    .where(user_log.page.isin(['Thumbs Up','Add Friend','Thumbs Down'])) \\\n",
    "    .sort('page','Cancelled').select('Cancelled','page',col('avg(count)').alias('Number of Interactions')).show()"
   ]
  },
  {
   "cell_type": "code",
   "execution_count": 35,
   "metadata": {},
   "outputs": [
    {
     "name": "stdout",
     "output_type": "stream",
     "text": [
      "+---------+------------------+\n",
      "|Cancelled|Number of Sessions|\n",
      "+---------+------------------+\n",
      "|        1|              8.68|\n",
      "|        0|13.264705882352942|\n",
      "+---------+------------------+\n",
      "\n"
     ]
    }
   ],
   "source": [
    "#sessions in the last month for normal and churned users\n",
    "\n",
    "windowval = Window.partitionBy(\"userId\").orderBy(desc(\"date\")).rangeBetween(Window.unboundedPreceding, 0)\n",
    "\n",
    "user_log.filter(user_log.itemInSession==0) \\\n",
    "    .withColumn(\"lastSession\", max(\"date\").over(windowval)) \\\n",
    "    .withColumn(\"daysFromLastSession\", datediff(col('lastSession'), col('date'))) \\\n",
    "    .where(col('daysFromLastSession')<31) \\\n",
    "    .groupBy('Cancelled','userId').count() \\\n",
    "    .groupBy('Cancelled').mean() \\\n",
    "    .select('Cancelled',col('avg(count)').alias('Number of Sessions')).show()\n"
   ]
  },
  {
   "cell_type": "code",
   "execution_count": 22,
   "metadata": {},
   "outputs": [
    {
     "name": "stdout",
     "output_type": "stream",
     "text": [
      "+------------------+\n",
      "|avg(daysInPremiun)|\n",
      "+------------------+\n",
      "|14.441176470588236|\n",
      "+------------------+\n",
      "\n"
     ]
    }
   ],
   "source": [
    "#avarage days in premium\n",
    "user_log.filter((user_log.itemInSession==0) & (user_log.Cancelled==1) & (user_log.level=='paid')) \\\n",
    "    .groupBy('userId').agg(min(\"date\"),max(\"date\")) \\\n",
    "    .withColumn(\"daysInPremiun\", datediff(col('max(date)'), col('min(date)'))) \\\n",
    "    .select(avg('daysInPremiun')) \\\n",
    "    .show()"
   ]
  },
  {
   "cell_type": "code",
   "execution_count": 23,
   "metadata": {},
   "outputs": [
    {
     "data": {
      "text/plain": [
       "Text(0.5,1,'Cancelled users songs played for Session')"
      ]
     },
     "execution_count": 23,
     "metadata": {},
     "output_type": "execute_result"
    },
    {
     "data": {
      "image/png": "[encoded data removed]",
      "text/plain": [
       "<matplotlib.figure.Figure at 0x7f8637e136a0>"
      ]
     },
     "metadata": {
      "needs_background": "light"
     },
     "output_type": "display_data"
    }
   ],
   "source": [
    "Wrank = Window.partitionBy(\"UserId\").orderBy('SessionId')\n",
    "\n",
    "songs_per_session = user_log.filter(user_log.page == \"NextSong\").withColumn(\"SessionRank\", dense_rank().over(Wrank))\n",
    "songs_per_session = songs_per_session.groupBy('Cancelled','UserId','SessionRank').count() \\\n",
    "                .groupBy('Cancelled','SessionRank').avg() \\\n",
    "                .toPandas()\n",
    "\n",
    "c = songs_per_session.loc[songs_per_session.Cancelled==1].sort_values('SessionRank')[\"avg(count)\"]\n",
    "h = songs_per_session.loc[songs_per_session.Cancelled==1].sort_values('SessionRank')[\"SessionRank\"]\n",
    "plt.plot(h,c)\n",
    "plt.xlabel(\"Sessions order\")\n",
    "plt.ylabel(\"Songs played\")\n",
    "plt.title(\"Cancelled users songs played for Session\")\n"
   ]
  },
  {
   "cell_type": "markdown",
   "metadata": {},
   "source": [
    "# Feature Engineering\n",
    "Once you've familiarized yourself with the data, build out the features you find promising to train your model on. To work with the full dataset, you can follow the following steps.\n",
    "- Write a script to extract the necessary features from the smaller subset of data\n",
    "- Ensure that your script is scalable, using the best practices discussed in Lesson 3\n",
    "- Try your script on the full data set, debugging your script if necessary\n",
    "\n",
    "If you are working in the classroom workspace, you can just extract features based on the small subset of data contained here. Be sure to transfer over this work to the larger dataset when you work on your Spark cluster."
   ]
  },
  {
   "cell_type": "code",
   "execution_count": 24,
   "metadata": {},
   "outputs": [],
   "source": [
    "def SessionsLast30days(originalDataset, modelDataset):\n",
    "    '''\n",
    "        This function creates a features with the number of sessions\n",
    "        an user had whitin the past 30 days\n",
    "        \n",
    "        INPUT: originalDataset - original data frame with all the columns \n",
    "               modelDataset - the data frame with the other features\n",
    "        OUTPUT: modelDataset - the data frame with the other features and the new feature\n",
    "\n",
    "    '''\n",
    "    \n",
    "    IdFeature = originalDataset.filter(originalDataset.itemInSession==0) \\\n",
    "        .where(col('daysFromLastSession')<31) \\\n",
    "        .groupBy('userId').count() \\\n",
    "        .withColumnRenamed('count','SessionsLast30days')\n",
    "    \n",
    "    modelDataset = modelDataset.join(IdFeature,'userId', \"left\")\n",
    "    \n",
    "    return modelDataset"
   ]
  },
  {
   "cell_type": "code",
   "execution_count": 25,
   "metadata": {},
   "outputs": [],
   "source": [
    "def AvgSongsPlayes (originalDataset, modelDataset):\n",
    "    '''\n",
    "        This function creates a features that represents avarage songs \n",
    "        played by Session\n",
    "        \n",
    "        INPUT: originalDataset - original data frame with all the columns \n",
    "               modelDataset - the data frame with the other features\n",
    "        OUTPUT: modelDataset - the data frame with the other features and the new feature\n",
    "\n",
    "    '''\n",
    "    IdFeature = originalDataset.filter(user_log.song.isNotNull()) \\\n",
    "        .where(col('daysFromLastSession')<8) \\\n",
    "        .groupBy('userId','sessionId').count() \\\n",
    "        .groupby('userId').avg() \\\n",
    "        .select('userId','avg(count)') \\\n",
    "        .withColumnRenamed('avg(count)','Avg_Songs_Played_Session')\n",
    "    \n",
    "    modelDataset = modelDataset.join(IdFeature,'userId', \"left\")\n",
    "    \n",
    "    return modelDataset"
   ]
  },
  {
   "cell_type": "code",
   "execution_count": 26,
   "metadata": {},
   "outputs": [],
   "source": [
    "def SongVariety (originalDataset, modelDataset):\n",
    "    '''\n",
    "        This function creates a features that represents the variety of \n",
    "        songs a user has\n",
    "        \n",
    "        INPUT: originalDataset - original data frame with all the columns \n",
    "               modelDataset - the data frame with the other features\n",
    "        OUTPUT: modelDataset - the data frame with the other features and the new feature\n",
    "\n",
    "\n",
    "    '''\n",
    "    IdFeature = originalDataset.groupBy('userId').agg(countDistinct('song')) \\\n",
    "        .withColumnRenamed('count(DISTINCT song)','Song_Varierty')\n",
    "    \n",
    "    modelDataset = modelDataset.join(IdFeature,'userId', \"left\")\n",
    "    \n",
    "    return modelDataset"
   ]
  },
  {
   "cell_type": "code",
   "execution_count": 41,
   "metadata": {},
   "outputs": [],
   "source": [
    "def LikedSongsProportion (originalDataset, modelDataset):\n",
    "    '''\n",
    "        This function calculates the ratio of desliked songs for liked songs\n",
    "        by each user id in his entire expirence in the plataform\n",
    "        \n",
    "        INPUT: originalDataset - original data frame with all the columns \n",
    "               modelDataset - the data frame with the other features\n",
    "        OUTPUT: modelDataset - the data frame with the other features and the new feature\n",
    "\n",
    "\n",
    "    '''\n",
    "    flag_like = udf(lambda x: 1 if x == 'Thumbs Up' else 0, IntegerType())\n",
    "    \n",
    "    flag_deslike = udf(lambda x: 1 if x == 'Thumbs Down' else 0, IntegerType())\n",
    "\n",
    "    originalDataset = originalDataset.withColumn('Thumbs Up', flag_like('page')) \\\n",
    "        .withColumn('Thumbs Down', flag_deslike('page'))\n",
    "    \n",
    "    IdFeature = originalDataset.groupBy('userId').agg(fsum('Thumbs Up'),fsum('Thumbs Down')) \\\n",
    "        .withColumn('ThumbsProportion',col('sum(Thumbs Down)') / col('sum(Thumbs Up)')) \\\n",
    "        .withColumnRenamed('sum(Thumbs Up)','Liked_Songs') \\\n",
    "        .withColumnRenamed('sum(Thumbs Down)','Desliked_Songs')\n",
    "    \n",
    "    modelDataset = modelDataset.join(IdFeature,'userId', \"left\")\n",
    "    \n",
    "    return modelDataset"
   ]
  },
  {
   "cell_type": "code",
   "execution_count": 28,
   "metadata": {},
   "outputs": [],
   "source": [
    "def FriedsAdded (originalDataset, modelDataset):\n",
    "    '''\n",
    "        This function calculates the number friends added by the user \n",
    "        \n",
    "        INPUT: originalDataset - original data frame with all the columns \n",
    "               modelDataset - the data frame with the other features\n",
    "        OUTPUT: modelDataset - the data frame with the other features and the new feature\n",
    "\n",
    "\n",
    "    '''\n",
    "    flag_friedadd = udf(lambda x: 1 if x == 'Add Friend' else 0, IntegerType())\n",
    "    \n",
    "    originalDataset = originalDataset.withColumn('Add Friend', flag_friedadd('page'))\n",
    "    \n",
    "    IdFeature = originalDataset.where(col('daysFromLastSession')<8) \\\n",
    "        .groupBy('userId').sum('Add Friend') \\\n",
    "        .withColumnRenamed('sum(Add Friend)','Friends_Added') \\\n",
    "    \n",
    "    modelDataset = modelDataset.join(IdFeature,'userId', \"left\")\n",
    "    \n",
    "    return modelDataset"
   ]
  },
  {
   "cell_type": "code",
   "execution_count": 29,
   "metadata": {},
   "outputs": [],
   "source": [
    "def DaysInPremium (originalDataset, modelDataset):\n",
    "    '''\n",
    "        This function calculates the number of days a user stayed as a\n",
    "        Premium user\n",
    "        \n",
    "        INPUT: originalDataset - original data frame with all the columns \n",
    "               modelDataset - the data frame with the other features\n",
    "        OUTPUT: modelDataset - the data frame with the other features and the new feature\n",
    "\n",
    "\n",
    "    '''\n",
    "    originalDataset = originalDataset.filter(user_log.level=='paid') \\\n",
    "        .groupBy('userId') \\\n",
    "        .agg(max('ts'),min('ts')) \\\n",
    "        .withColumn('PremiumTime', col('max(ts)').cast(\"long\") - col('min(ts)').cast(\"long\") ) \\\n",
    "        .withColumn('Days_In_Premium', col('PremiumTime')/(24*3600*1000)) \\\n",
    "        .select('userId','Days_In_Premium')\n",
    "        \n",
    "    modelDataset = modelDataset.join(originalDataset,'userId', \"left\")\n",
    "    \n",
    "    modelDataset = modelDataset.fillna(0)\n",
    "    \n",
    "    return modelDataset"
   ]
  },
  {
   "cell_type": "code",
   "execution_count": 30,
   "metadata": {},
   "outputs": [],
   "source": [
    "def DaysInSparkfy (originalDataset, modelDataset):\n",
    "    '''\n",
    "        This function calculates the number of days a user stayed as a\n",
    "        Premium user\n",
    "        \n",
    "        INPUT: originalDataset - original data frame with all the columns \n",
    "               modelDataset - the data frame with the other features\n",
    "        OUTPUT: modelDataset - the data frame with the other features and the new feature\n",
    "\n",
    "\n",
    "    '''\n",
    "    originalDataset = originalDataset.groupBy('userId') \\\n",
    "        .agg(max('ts'),max('registration')) \\\n",
    "        .withColumn('User_Time', col('max(ts)').cast(\"long\") - col('max(registration)').cast(\"long\") ) \\\n",
    "        .withColumn('DaysInSparkfy', col('User_Time')/(24*3600*1000)) \\\n",
    "        .select('userId','DaysInSparkfy')\n",
    "        \n",
    "    modelDataset = modelDataset.join(originalDataset,'userId', \"left\")\n",
    "    \n",
    "    return modelDataset"
   ]
  },
  {
   "cell_type": "code",
   "execution_count": 42,
   "metadata": {},
   "outputs": [],
   "source": [
    "ModelData = user_log.select('userId','Cancelled','gender').dropDuplicates()\n",
    "\n",
    "indexer = StringIndexer(inputCol=\"gender\", outputCol=\"genderIndexed\",handleInvalid=\"skip\")\n",
    "ModelData = indexer.fit(ModelData).transform(ModelData)\n",
    "\n",
    "#avarage itens in sessions\n",
    "ModelData = AvgSongsPlayes(user_log,ModelData)\n",
    "\n",
    "#number of differente musics played\n",
    "ModelData = SongVariety(user_log,ModelData)\n",
    "\n",
    "#liked and desliked songs\n",
    "ModelData = LikedSongsProportion(user_log,ModelData)\n",
    "\n",
    "#Friends added\n",
    "ModelData = FriedsAdded(user_log,ModelData)\n",
    "\n",
    "#Premium Time\n",
    "ModelData = DaysInPremium(user_log,ModelData)\n",
    "\n",
    "#Sesions in the last 30 days\n",
    "ModelData = SessionsLast30days(user_log,ModelData)\n",
    "\n",
    "#Days since registration\n",
    "ModelData = DaysInSparkfy(user_log,ModelData)\n",
    "\n",
    "ModelData = ModelData.fillna(0)"
   ]
  },
  {
   "cell_type": "markdown",
   "metadata": {},
   "source": [
    "# Modeling\n",
    "Split the full dataset into train, test, and validation sets. Test out several of the machine learning methods you learned. Evaluate the accuracy of the various models, tuning parameters as necessary. Determine your winning model based on test accuracy and report results on the validation set. Since the churned users are a fairly small subset, I suggest using F1 score as the metric to optimize."
   ]
  },
  {
   "cell_type": "code",
   "execution_count": 43,
   "metadata": {},
   "outputs": [],
   "source": [
    "y_collect = ModelData.select(\"Cancelled\").groupBy(\"Cancelled\").count().collect()\n",
    "unique_y = [x[\"Cancelled\"] for x in y_collect]\n",
    "total_y = 225 #sum([x[\"count\"] for x in y_collect])\n",
    "unique_y_count = len(y_collect)\n",
    "bin_count = [x[\"count\"] for x in y_collect]\n",
    "\n",
    "class_weights_spark = {i: ii for i, ii in zip(unique_y, total_y / (unique_y_count * np.array(bin_count)))}"
   ]
  },
  {
   "cell_type": "code",
   "execution_count": 44,
   "metadata": {},
   "outputs": [],
   "source": [
    "features = [ \"Avg_Songs_Played_Session\",\"genderIndexed\", \"ThumbsProportion\", \"Friends_Added\", \"Days_In_Premium\",\"SessionsLast30days\",\"DaysInSparkfy\"]\n",
    "\n",
    "assembler = VectorAssembler(inputCols=features, outputCol=\"features\")\n",
    "\n",
    "ModelData = assembler.transform(ModelData)\n",
    "\n",
    "mapping_expr = create_map([lit(x) for x in chain(*class_weights_spark.items())])\n",
    "\n",
    "ModelData = ModelData.withColumn(\"weight\", mapping_expr.getItem(col(\"Cancelled\")))\n",
    "\n",
    "rest, validation = ModelData.randomSplit([0.8, 0.2], seed=42)\n"
   ]
  },
  {
   "cell_type": "code",
   "execution_count": 45,
   "metadata": {},
   "outputs": [
    {
     "name": "stdout",
     "output_type": "stream",
     "text": [
      "Number of correcet labes: 26\n",
      "Number of labels: 34\n",
      "Accuracy: 0.7647058823529411\n",
      "F1_score: 0.5555555555555556\n",
      "precision: 0.5\n",
      "recall: 0.625\n",
      "Number of false negatives: 3\n",
      "Number of false positive: 5\n",
      "Number of true negatives: 21\n",
      "Number of true positive: 5\n"
     ]
    }
   ],
   "source": [
    "#lr = LogisticRegression(labelCol='Cancelled', maxIter=10, regParam=0.3, elasticNetParam=0.8)\n",
    "#lrModel = lr.fit(rest)\n",
    "\n",
    "gbt = GBTClassifier(labelCol=\"Cancelled\", featuresCol=\"features\", maxIter=30)\n",
    "lrModel = gbt.fit(rest)\n",
    "\n",
    "results = lrModel.transform(validation)\n",
    "\n",
    "n_labes = results.count()\n",
    "tp = results.filter((results.Cancelled == 1) & (results.prediction==1)).count()\n",
    "tn = results.filter((results.Cancelled == 0) & (results.prediction==0)).count()\n",
    "fn = results.filter((results.Cancelled == 1) & (results.prediction==0)).count()\n",
    "fp = results.filter((results.Cancelled == 0) & (results.prediction==1)).count()\n",
    "\n",
    "precision = tp/(tp+fp)\n",
    "\n",
    "recall = tp/(tp+fn)\n",
    "\n",
    "correct_laels = tp+tn\n",
    "\n",
    "F1_score = 2*(recall * precision) / (recall + precision)\n",
    "\n",
    "print(\"Number of correcet labes: {}\\nNumber of labels: {}\\nAccuracy: {}\".format(correct_laels,n_labes,(tp+tn)/n_labes))\n",
    "\n",
    "print(\"F1_score: {}\\nprecision: {}\\nrecall: {}\".format(F1_score,precision,recall))\n",
    "\n",
    "print(\"Number of false negatives: {}\".format(fn))\n",
    "print(\"Number of false positive: {}\".format(fp))\n",
    "print(\"Number of true negatives: {}\".format(tn))\n",
    "print(\"Number of true positive: {}\".format(tp))"
   ]
  },
  {
   "cell_type": "code",
   "execution_count": 46,
   "metadata": {},
   "outputs": [
    {
     "name": "stdout",
     "output_type": "stream",
     "text": [
      "Number of correcet labes: 27\n",
      "Number of labels: 34\n",
      "Accuracy: 0.7941176470588235\n",
      "F1_score: 0.631578947368421\n",
      "precision: 0.5454545454545454\n",
      "recall: 0.75\n",
      "Number of false negatives: 2\n",
      "Number of false positive: 5\n",
      "Number of true negatives: 21\n",
      "Number of true positive: 6\n"
     ]
    }
   ],
   "source": [
    "lr = LogisticRegression(labelCol='Cancelled',weightCol=\"weight\")\n",
    "lrModel = lr.fit(rest)\n",
    "\n",
    "results = lrModel.transform(validation)\n",
    "\n",
    "n_labes = results.count()\n",
    "tp = results.filter((results.Cancelled == 1) & (results.prediction==1)).count()\n",
    "tn = results.filter((results.Cancelled == 0) & (results.prediction==0)).count()\n",
    "fn = results.filter((results.Cancelled == 1) & (results.prediction==0)).count()\n",
    "fp = results.filter((results.Cancelled == 0) & (results.prediction==1)).count()\n",
    "\n",
    "precision = tp/(tp+fp)\n",
    "\n",
    "recall = tp/(tp+fn)\n",
    "\n",
    "correct_laels = tp+tn\n",
    "\n",
    "F1_score = 2*(recall * precision) / (recall + precision)\n",
    "\n",
    "print(\"Number of correcet labes: {}\\nNumber of labels: {}\\nAccuracy: {}\".format(correct_laels,n_labes,(tp+tn)/n_labes))\n",
    "\n",
    "print(\"F1_score: {}\\nprecision: {}\\nrecall: {}\".format(F1_score,precision,recall))\n",
    "\n",
    "print(\"Number of false negatives: {}\".format(fn))\n",
    "print(\"Number of false positive: {}\".format(fp))\n",
    "print(\"Number of true negatives: {}\".format(tn))\n",
    "print(\"Number of true positive: {}\".format(tp))"
   ]
  },
  {
   "cell_type": "code",
   "execution_count": 47,
   "metadata": {},
   "outputs": [
    {
     "name": "stdout",
     "output_type": "stream",
     "text": [
      "Number of correcet labes: 28\n",
      "Number of labels: 34\n",
      "Accuracy: 0.8235294117647058\n",
      "F1_score: 0.4\n",
      "precision: 1.0\n",
      "recall: 0.25\n",
      "Number of false negatives: 6\n",
      "Number of false positive: 0\n",
      "Number of true negatives: 26\n",
      "Number of true positive: 2\n"
     ]
    }
   ],
   "source": [
    "lr = LogisticRegression(labelCol='Cancelled')\n",
    "lrModel = lr.fit(rest)\n",
    "\n",
    "results = lrModel.transform(validation)\n",
    "\n",
    "n_labes = results.count()\n",
    "tp = results.filter((results.Cancelled == 1) & (results.prediction==1)).count()\n",
    "tn = results.filter((results.Cancelled == 0) & (results.prediction==0)).count()\n",
    "fn = results.filter((results.Cancelled == 1) & (results.prediction==0)).count()\n",
    "fp = results.filter((results.Cancelled == 0) & (results.prediction==1)).count()\n",
    "\n",
    "precision = tp/(tp+fp)\n",
    "\n",
    "recall = tp/(tp+fn)\n",
    "\n",
    "correct_laels = tp+tn\n",
    "\n",
    "F1_score = 2*(recall * precision) / (recall + precision)\n",
    "\n",
    "print(\"Number of correcet labes: {}\\nNumber of labels: {}\\nAccuracy: {}\".format(correct_laels,n_labes,(tp+tn)/n_labes))\n",
    "\n",
    "print(\"F1_score: {}\\nprecision: {}\\nrecall: {}\".format(F1_score,precision,recall))\n",
    "\n",
    "print(\"Number of false negatives: {}\".format(fn))\n",
    "print(\"Number of false positive: {}\".format(fp))\n",
    "print(\"Number of true negatives: {}\".format(tn))\n",
    "print(\"Number of true positive: {}\".format(tp))"
   ]
  },
  {
   "cell_type": "code",
   "execution_count": null,
   "metadata": {},
   "outputs": [],
   "source": []
  },
  {
   "cell_type": "code",
   "execution_count": null,
   "metadata": {},
   "outputs": [],
   "source": []
  }
 ],
 "metadata": {
  "kernelspec": {
   "display_name": "Python 3",
   "language": "python",
   "name": "python3"
  },
  "language_info": {
   "codemirror_mode": {
    "name": "ipython",
    "version": 3
   },
   "file_extension": ".py",
   "mimetype": "text/x-python",
   "name": "python",
   "nbconvert_exporter": "python",
   "pygments_lexer": "ipython3",
   "version": "3.6.3"
  }
 },
 "nbformat": 4,
 "nbformat_minor": 2
}
